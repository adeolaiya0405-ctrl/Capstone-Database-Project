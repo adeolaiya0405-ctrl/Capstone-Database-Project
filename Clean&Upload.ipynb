{
 "cells": [
  {
   "cell_type": "code",
   "execution_count": 4,
   "id": "70ddcab0-a0c2-4a36-8f09-bd3104b385b1",
   "metadata": {},
   "outputs": [],
   "source": [
    "pip install mysql-connector-python pandas\n",
    "\n",
    "import pandas as pd\n",
    "import mysql.connector\n",
    "\n",
    "# RDS connection details\n",
    "host = \"capstone-1.cnkl2ckw11yt.eu-west-1.rds.amazonaws.com\"  # endpoint\n",
    "user = \"admin\"        # RDS master username\n",
    "password = \"adminpassword\"   # RDS master password\n",
    "database = \"capstone_db\"\n",
    "# Connect\n",
    "conn = mysql.connector.connect(\n",
    "    host=host,\n",
    "    user=user,\n",
    "    password=password,\n",
    "    database=database,\n",
    ")\n",
    "\n",
    "cursor = conn.cursor()\n",
    "print(\"Connected to RDS!\")\n"
   ]
  },
  {
   "cell_type": "code",
   "execution_count": null,
   "id": "0b90695e-ea3c-4f94-95ab-3a392a016cae",
   "metadata": {},
   "outputs": [],
   "source": []
  }
 ],
 "metadata": {
  "kernelspec": {
   "display_name": "Python [conda env:base] *",
   "language": "python",
   "name": "conda-base-py"
  },
  "language_info": {
   "codemirror_mode": {
    "name": "ipython",
    "version": 3
   },
   "file_extension": ".py",
   "mimetype": "text/x-python",
   "name": "python",
   "nbconvert_exporter": "python",
   "pygments_lexer": "ipython3",
   "version": "3.13.5"
  }
 },
 "nbformat": 4,
 "nbformat_minor": 5
}
